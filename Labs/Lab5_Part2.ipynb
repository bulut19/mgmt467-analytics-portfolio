{
  "cells": [
    {
      "cell_type": "markdown",
      "metadata": {
        "id": "view-in-github",
        "colab_type": "text"
      },
      "source": [
        "<a href=\"https://colab.research.google.com/github/bulut19/mgmt467-analytics-portfolio/blob/main/Lab5_Part2.ipynb\" target=\"_parent\"><img src=\"https://colab.research.google.com/assets/colab-badge.svg\" alt=\"Open In Colab\"/></a>"
      ]
    },
    {
      "cell_type": "markdown",
      "id": "f3efb80b",
      "metadata": {
        "id": "f3efb80b"
      },
      "source": [
        "\n",
        "# 🤖 MGMT 467 - Unit 2 Lab 2: Prompt Studio — Feature Engineering & Beyond\n",
        "\n",
        "**Date:** 2025-10-16  \n",
        "This notebook continues from Task 5 onward, focusing on feature engineering and model iteration using AI-assisted prompt design.\n",
        "\n",
        "You'll continue to:\n",
        "- Generate SQL using prompt templates\n",
        "- Build and test new features\n",
        "- Retrain and evaluate your ML model\n",
        "- Reflect on the effect of engineered features\n"
      ]
    },
    {
      "cell_type": "markdown",
      "id": "866fc343",
      "metadata": {
        "id": "866fc343"
      },
      "source": [
        "\n",
        "## Task 5.0: Bucket a Continuous Feature\n",
        "\n",
        "**🎯 Goal:** Group 'total_minutes' into categories: low, medium, high.  \n",
        "**📌 Requirements:** Use CASE WHEN or IF statements to create 'watch_time_bucket'.\n",
        "\n",
        "---\n",
        "\n",
        "### 🧠 Prompt Template  \n",
        "> Write SQL that creates a new column watch_time_bucket based on total_minutes thresholds (<100, 100–300, >300).\n",
        "\n",
        "---\n",
        "\n",
        "### 👩‍🏫 Example Prompt  \n",
        "> Create a new column watch_time_bucket with values 'low', 'medium', or 'high' based on total_minutes.\n",
        "\n",
        "---\n",
        "\n",
        "### 🔍 Exploration  \n",
        "How does churn rate vary across these buckets?\n"
      ]
    },
    {
      "cell_type": "code",
      "metadata": {
        "id": "274ce60b"
      },
      "source": [
        "%%bigquery --project boxwood-veld-471119-r6\n",
        "SELECT CURRENT_DATE() AS today, SESSION_USER() AS user;"
      ],
      "id": "274ce60b",
      "execution_count": null,
      "outputs": []
    },
    {
      "cell_type": "code",
      "metadata": {
        "id": "146f1f64"
      },
      "source": [
        "%%bigquery --project boxwood-veld-471119-r6\n",
        "CREATE OR REPLACE TABLE `netflix.churn_features_bucketed` AS\n",
        "SELECT\n",
        "  *,\n",
        "  CASE\n",
        "    WHEN total_minutes < 100 THEN 'low'\n",
        "    WHEN total_minutes >= 100 AND total_minutes <= 300 THEN 'medium'\n",
        "    ELSE 'high'\n",
        "  END AS watch_time_bucket\n",
        "FROM `netflix.churn_features`;"
      ],
      "id": "146f1f64",
      "execution_count": null,
      "outputs": []
    },
    {
      "cell_type": "code",
      "metadata": {
        "id": "ce35259c"
      },
      "source": [
        "%%bigquery --project boxwood-veld-471119-r6\n",
        "SELECT\n",
        "  watch_time_bucket,\n",
        "  COUNT(*) AS n_users,\n",
        "  AVG(CAST(churn_label AS FLOAT64)) AS churn_rate\n",
        "FROM `netflix.churn_features_bucketed`\n",
        "GROUP BY watch_time_bucket\n",
        "ORDER BY\n",
        "  CASE watch_time_bucket\n",
        "    WHEN 'low' THEN 1 WHEN 'medium' THEN 2 ELSE 3\n",
        "  END;"
      ],
      "id": "ce35259c",
      "execution_count": null,
      "outputs": []
    },
    {
      "cell_type": "markdown",
      "metadata": {
        "id": "2ddbed50"
      },
      "source": [
        "**Exploration:** Users in the 'low' watch time bucket (less than 100 minutes) had the lowest churn rate at around 7.7%. On the other hand, users in the 'medium' (100-300 minutes) and 'high' (greater than 300 minutes) watch time buckets showed significantly higher and very similar churn rates, around 14.7% and 14.8% respectively. This suggests that while low engagement users are less likely to churn, those with moderate to high watch times show a consistently higher likelihood to churn."
      ],
      "id": "2ddbed50"
    },
    {
      "cell_type": "markdown",
      "id": "c7295de2",
      "metadata": {
        "id": "c7295de2"
      },
      "source": [
        "\n",
        "## Task 5.1: Create a Binary Flag Feature\n",
        "\n",
        "**🎯 Goal:** Add a binary column flag_binge (1 if total_minutes > 500).  \n",
        "**📌 Requirements:** Use IF logic to create a binary column in SQL.\n",
        "\n",
        "---\n",
        "\n",
        "### 🧠 Prompt Template  \n",
        "> Write a SQL query that adds flag_binge = 1 if total_minutes > 500, else 0.\n",
        "\n",
        "---\n",
        "\n",
        "### 👩‍🏫 Example Prompt  \n",
        "> Add a binary column flag_binge to identify binge-watchers.\n",
        "\n",
        "---\n",
        "\n",
        "### 🔍 Exploration  \n",
        "Are binge-watchers more or less likely to churn?\n"
      ]
    },
    {
      "cell_type": "code",
      "metadata": {
        "id": "c31e6990"
      },
      "source": [
        "%%bigquery --project boxwood-veld-471119-r6\n",
        "-- Add a binary flag: 1 if total_minutes > 500 else 0\n",
        "CREATE OR REPLACE TABLE `netflix.churn_features_flagged` AS\n",
        "SELECT\n",
        "  *,\n",
        "  CASE\n",
        "    WHEN total_minutes > 500 THEN 1\n",
        "    ELSE 0\n",
        "  END AS flag_binge\n",
        "FROM `netflix.churn_features_bucketed`;"
      ],
      "id": "c31e6990",
      "execution_count": null,
      "outputs": []
    },
    {
      "cell_type": "code",
      "metadata": {
        "id": "c3421137"
      },
      "source": [
        "%%bigquery --project boxwood-veld-471119-r6\n",
        "SELECT\n",
        "  *\n",
        "FROM\n",
        "  `netflix.churn_features_flagged`\n",
        "LIMIT 10;"
      ],
      "id": "c3421137",
      "execution_count": null,
      "outputs": []
    },
    {
      "cell_type": "code",
      "metadata": {
        "id": "d08903ca"
      },
      "source": [
        "%%bigquery --project boxwood-veld-471119-r6\n",
        "-- Compare churn between binge (1) vs non-binge (0)\n",
        "SELECT\n",
        "  flag_binge,\n",
        "  COUNT(*) AS n_users,\n",
        "  AVG(CAST(churn_label AS FLOAT64)) AS churn_rate\n",
        "FROM `netflix.churn_features_flagged`\n",
        "GROUP BY flag_binge\n",
        "ORDER BY flag_binge DESC;"
      ],
      "id": "d08903ca",
      "execution_count": null,
      "outputs": []
    },
    {
      "cell_type": "markdown",
      "metadata": {
        "id": "af1db495"
      },
      "source": [
        "**Exploration:** Users flagged as binge-watchers (over 500 minutes) had a churn rate of around 14.9%, while non-binge watchers had a slightly lower churn rate of around 14.6%. Although the difference is not big, it shows that binge watchers have a slightly higher likelihood of churning."
      ],
      "id": "af1db495"
    },
    {
      "cell_type": "markdown",
      "id": "d97be921",
      "metadata": {
        "id": "d97be921"
      },
      "source": [
        "\n",
        "## Task 5.2: Create an Interaction Term\n",
        "\n",
        "**🎯 Goal:** Create plan_region_combo by combining plan_tier and region.  \n",
        "**📌 Requirements:** Use CONCAT or STRING functions.\n",
        "\n",
        "---\n",
        "\n",
        "### 🧠 Prompt Template  \n",
        "> Generate SQL to create a new column by combining plan_tier and region with an underscore.\n",
        "\n",
        "---\n",
        "\n",
        "### 👩‍🏫 Example Prompt  \n",
        "> Create a column called plan_region_combo as CONCAT(plan_tier, '_', region).\n",
        "\n",
        "---\n",
        "\n",
        "### 🔍 Exploration  \n",
        "Which plan-region combos have highest churn?\n"
      ]
    },
    {
      "cell_type": "code",
      "metadata": {
        "id": "a06bfa03"
      },
      "source": [
        "%%bigquery --project boxwood-veld-471119-r6\n",
        "-- Create plan_region_combo by combining plan_tier and region\n",
        "CREATE OR REPLACE TABLE `netflix.churn_features_combined` AS\n",
        "SELECT\n",
        "  *,\n",
        "  CONCAT(plan_tier, '_', region) AS plan_region_combo\n",
        "FROM\n",
        "  `netflix.churn_features_flagged`;"
      ],
      "id": "a06bfa03",
      "execution_count": null,
      "outputs": []
    },
    {
      "cell_type": "code",
      "metadata": {
        "id": "b9628c14"
      },
      "source": [
        "%%bigquery --project boxwood-veld-471119-r6\n",
        "SELECT\n",
        "  plan_region_combo,\n",
        "  COUNT(*) AS n_users,\n",
        "  AVG(CAST(churn_label AS FLOAT64)) AS churn_rate\n",
        "FROM\n",
        "  `netflix.churn_features_combined`\n",
        "GROUP BY\n",
        "  plan_region_combo\n",
        "ORDER BY\n",
        "  churn_rate DESC;"
      ],
      "id": "b9628c14",
      "execution_count": null,
      "outputs": []
    },
    {
      "cell_type": "markdown",
      "metadata": {
        "id": "c61c39a6"
      },
      "source": [
        "**Exploration:** Users on the Basic plan in the USA and those on the Standard plan in Canada are the most likely to churn, with churn rates around 15.9% and 15.8%. Premium users in both the USA and Canada also have pretty high churn rates, in the 14% to 15% range. On the other hand, Basic plan users in Canada seem less likely to churn, around 13.4%, and Standard and Premium+ users in the USA are also on the lower end, around 14.0% to 14.1%. Based on this, it would be recommended to focus efforts on keeping Basic plan users in the USA and Standard plan users in Canada to reduce churn."
      ],
      "id": "c61c39a6"
    },
    {
      "cell_type": "markdown",
      "id": "0aa1e6cf",
      "metadata": {
        "id": "0aa1e6cf"
      },
      "source": [
        "\n",
        "## Task 5.3: Add Missingness Indicator Flags\n",
        "\n",
        "**🎯 Goal:** Add binary flags to capture NULL values in age_band and avg_rating.  \n",
        "**📌 Requirements:** Use IS NULL logic to create new flag columns.\n",
        "\n",
        "---\n",
        "\n",
        "### 🧠 Prompt Template  \n",
        "> Create a new column is_missing_[col_name] that is 1 when column is NULL, else 0.\n",
        "\n",
        "---\n",
        "\n",
        "### 👩‍🏫 Example Prompt  \n",
        "> Add is_missing_age that flags rows where age_band IS NULL.\n",
        "\n",
        "---\n",
        "\n",
        "### 🔍 Exploration  \n",
        "Do missing values correlate with churn?\n"
      ]
    },
    {
      "cell_type": "code",
      "metadata": {
        "id": "ef9b1e75"
      },
      "source": [
        "%%bigquery --project boxwood-veld-471119-r6\n",
        "-- Add binary flags to capture NULL values in age_band and avg_rating\n",
        "CREATE OR REPLACE TABLE `netflix.churn_features_missing_flags` AS\n",
        "SELECT\n",
        "  *,\n",
        "  CASE\n",
        "    WHEN age_band IS NULL THEN 1\n",
        "    ELSE 0\n",
        "  END AS is_missing_age_band,\n",
        "  CASE\n",
        "    WHEN avg_rating IS NULL THEN 1\n",
        "    ELSE 0\n",
        "  END AS is_missing_avg_rating\n",
        "FROM\n",
        "  `netflix.churn_features_combined`;"
      ],
      "id": "ef9b1e75",
      "execution_count": null,
      "outputs": []
    },
    {
      "cell_type": "code",
      "metadata": {
        "id": "78dea520"
      },
      "source": [
        "%%bigquery --project boxwood-veld-471119-r6\n",
        "SELECT\n",
        "  is_missing_age_band,\n",
        "  is_missing_avg_rating,\n",
        "  COUNT(*) AS n_users,\n",
        "  AVG(CAST(churn_label AS FLOAT64)) AS churn_rate\n",
        "FROM\n",
        "  `netflix.churn_features_missing_flags`\n",
        "GROUP BY\n",
        "  is_missing_age_band,\n",
        "  is_missing_avg_rating\n",
        "ORDER BY\n",
        "  is_missing_age_band,\n",
        "  is_missing_avg_rating;"
      ],
      "id": "78dea520",
      "execution_count": null,
      "outputs": []
    },
    {
      "cell_type": "markdown",
      "metadata": {
        "id": "e5ad665e"
      },
      "source": [
        "**Exploration:** There are no instances of missing data for `age_band` and `avg_rating`. Hence we can't really observe any correlation between missing values of the two variables and churn based on this data."
      ],
      "id": "e5ad665e"
    },
    {
      "cell_type": "markdown",
      "id": "525c91b3",
      "metadata": {
        "id": "525c91b3"
      },
      "source": [
        "\n",
        "## Task 5.4: Create Time-Based Features (Optional)\n",
        "\n",
        "**🎯 Goal:** Add a column days_since_last_login.  \n",
        "**📌 Requirements:** Use DATE_DIFF with CURRENT_DATE and last_login_date.\n",
        "\n",
        "---\n",
        "\n",
        "### 🧠 Prompt Template  \n",
        "> Write SQL to create a column showing days since last login using DATE_DIFF.\n",
        "\n",
        "---\n",
        "\n",
        "### 👩‍🏫 Example Prompt  \n",
        "> Add a column days_since_last_login = DATE_DIFF(CURRENT_DATE(), last_login_date, DAY).\n",
        "\n",
        "---\n",
        "\n",
        "### 🔍 Exploration  \n",
        "Does login recency affect churn rate?\n"
      ]
    },
    {
      "cell_type": "markdown",
      "id": "56077fb0",
      "metadata": {
        "id": "56077fb0"
      },
      "source": [
        "\n",
        "## Task 5.5: Assemble Enhanced Feature Table\n",
        "\n",
        "**🎯 Goal:** Create churn_features_enhanced with all engineered columns.  \n",
        "**📌 Requirements:** Include all prior features + engineered columns.\n",
        "\n",
        "---\n",
        "\n",
        "### 🧠 Prompt Template  \n",
        "> Generate SQL to create churn_features_enhanced with new columns: watch_time_bucket, plan_region_combo, flag_binge, etc.\n",
        "\n",
        "---\n",
        "\n",
        "### 👩‍🏫 Example Prompt  \n",
        "> Build a new table churn_features_enhanced with all original features + engineered ones.\n",
        "\n",
        "---\n",
        "\n",
        "### 🔍 Exploration  \n",
        "Are row counts stable? Any NULLs introduced?\n"
      ]
    },
    {
      "cell_type": "code",
      "metadata": {
        "id": "3220a38a"
      },
      "source": [
        "%%bigquery --project boxwood-veld-471119-r6\n",
        "-- Create churn_features_enhanced with all engineered columns\n",
        "CREATE OR REPLACE TABLE `netflix.churn_features_enhanced` AS\n",
        "SELECT\n",
        "  *\n",
        "FROM\n",
        "  `netflix.churn_features_missing_flags`;"
      ],
      "id": "3220a38a",
      "execution_count": null,
      "outputs": []
    },
    {
      "cell_type": "code",
      "metadata": {
        "id": "6edf33db"
      },
      "source": [
        "%%bigquery --project boxwood-veld-471119-r6\n",
        "SELECT\n",
        "  *\n",
        "FROM\n",
        "  `netflix.churn_features_enhanced`\n",
        "LIMIT 10;"
      ],
      "id": "6edf33db",
      "execution_count": null,
      "outputs": []
    },
    {
      "cell_type": "code",
      "metadata": {
        "id": "946499f1"
      },
      "source": [
        "%%bigquery --project boxwood-veld-471119-r6\n",
        "-- Check row counts\n",
        "SELECT\n",
        "  (SELECT COUNT(*) FROM `netflix.churn_features`)            AS n_base,\n",
        "  (SELECT COUNT(*) FROM `netflix.churn_features_enhanced`)   AS n_enhanced;"
      ],
      "id": "946499f1",
      "execution_count": null,
      "outputs": []
    },
    {
      "cell_type": "code",
      "metadata": {
        "id": "3571b48f"
      },
      "source": [
        "%%bigquery --project boxwood-veld-471119-r6\n",
        "-- Check for NULLs in engineered features\n",
        "SELECT\n",
        "  SUM(CASE WHEN watch_time_bucket     IS NULL THEN 1 ELSE 0 END) AS null_watch_time_bucket,\n",
        "  SUM(CASE WHEN flag_binge            IS NULL THEN 1 ELSE 0 END) AS null_flag_binge,\n",
        "  SUM(CASE WHEN plan_region_combo     IS NULL THEN 1 ELSE 0 END) AS null_plan_region_combo,\n",
        "  SUM(CASE WHEN is_missing_age_band   IS NULL THEN 1 ELSE 0 END) AS null_is_missing_age_band,\n",
        "  SUM(CASE WHEN is_missing_avg_rating IS NULL THEN 1 ELSE 0 END) AS null_is_missing_avg_rating\n",
        "FROM `netflix.churn_features_enhanced`;"
      ],
      "id": "3571b48f",
      "execution_count": null,
      "outputs": []
    },
    {
      "cell_type": "markdown",
      "metadata": {
        "id": "4bb5d453"
      },
      "source": [
        "**Exploration:** Comparing the row count to the original `netflix.churn_features` table, we can see that the number of rows is stable, hence no data was lost or duplicated. None of the engineered feature columns contain any NULL values so we are ready for model training."
      ],
      "id": "4bb5d453"
    },
    {
      "cell_type": "markdown",
      "id": "4145e26e",
      "metadata": {
        "id": "4145e26e"
      },
      "source": [
        "\n",
        "## Task 6: Retrain Model on Engineered Features\n",
        "\n",
        "**🎯 Goal:** Train a logistic regression model using churn_features_enhanced.  \n",
        "**📌 Requirements:** Use BQML logistic_reg model with new feature columns.\n",
        "\n",
        "---\n",
        "\n",
        "### 🧠 Prompt Template  \n",
        "> Write CREATE MODEL SQL using enhanced features including flags and buckets.\n",
        "\n",
        "---\n",
        "\n",
        "### 👩‍🏫 Example Prompt  \n",
        "> Retrain churn_model_enhanced using watch_time_bucket, flag_binge, plan_region_combo.\n",
        "\n",
        "---\n",
        "\n",
        "### 🔍 Exploration  \n",
        "Does model accuracy improve?\n"
      ]
    },
    {
      "cell_type": "code",
      "metadata": {
        "id": "dbf11adf"
      },
      "source": [
        "%%bigquery --project boxwood-veld-471119-r6\n",
        "-- Train a logistic regression model using original features\n",
        "CREATE OR REPLACE MODEL\n",
        "  `netflix.churn_model_base`\n",
        "OPTIONS\n",
        "  (model_type='logistic_reg',\n",
        "    input_label_cols=['churn_label']\n",
        "  ) AS\n",
        "SELECT\n",
        "  region,\n",
        "  plan_tier,\n",
        "  age_band,\n",
        "  avg_rating,\n",
        "  total_minutes,\n",
        "  churn_label\n",
        "FROM\n",
        "  `netflix.churn_features`;"
      ],
      "id": "dbf11adf",
      "execution_count": null,
      "outputs": []
    },
    {
      "cell_type": "code",
      "metadata": {
        "id": "01c3ec00"
      },
      "source": [
        "%%bigquery --project boxwood-veld-471119-r6\n",
        "-- Evaluate the base model\n",
        "SELECT\n",
        "  *\n",
        "FROM\n",
        "  ML.EVALUATE(MODEL `netflix.churn_model_base`,\n",
        "    (\n",
        "    SELECT\n",
        "      region,\n",
        "      plan_tier,\n",
        "      age_band,\n",
        "      avg_rating,\n",
        "      total_minutes,\n",
        "      churn_label\n",
        "    FROM\n",
        "      `netflix.churn_features`\n",
        "    )\n",
        "  );"
      ],
      "id": "01c3ec00",
      "execution_count": null,
      "outputs": []
    },
    {
      "cell_type": "code",
      "metadata": {
        "id": "1bafd511"
      },
      "source": [
        "%%bigquery --project boxwood-veld-471119-r6\n",
        "-- Train a logistic regression model using churn_features_enhanced\n",
        "CREATE OR REPLACE MODEL\n",
        "  `netflix.churn_model_enhanced`\n",
        "OPTIONS\n",
        "  (model_type='logistic_reg',\n",
        "    input_label_cols=['churn_label']\n",
        "  ) AS\n",
        "SELECT\n",
        "  -- Original features\n",
        "  region,\n",
        "  plan_tier,\n",
        "  age_band,\n",
        "  avg_rating,\n",
        "  total_minutes,\n",
        "  -- Engineered features\n",
        "  watch_time_bucket,\n",
        "  flag_binge,\n",
        "  plan_region_combo,\n",
        "  is_missing_age_band,\n",
        "  is_missing_avg_rating,\n",
        "  churn_label\n",
        "FROM\n",
        "  `netflix.churn_features_enhanced`;"
      ],
      "id": "1bafd511",
      "execution_count": null,
      "outputs": []
    },
    {
      "cell_type": "code",
      "metadata": {
        "id": "12c464b6"
      },
      "source": [
        "%%bigquery --project boxwood-veld-471119-r6\n",
        "-- Evaluate the enhanced model\n",
        "SELECT\n",
        "  *\n",
        "FROM\n",
        "  ML.EVALUATE(MODEL `netflix.churn_model_enhanced`,\n",
        "    (\n",
        "    SELECT\n",
        "      -- Include all features used for training\n",
        "      region,\n",
        "      plan_tier,\n",
        "      age_band,\n",
        "      avg_rating,\n",
        "      total_minutes,\n",
        "      watch_time_bucket,\n",
        "      flag_binge,\n",
        "      plan_region_combo,\n",
        "      is_missing_age_band,\n",
        "      is_missing_avg_rating,\n",
        "      churn_label\n",
        "    FROM\n",
        "      `netflix.churn_features_enhanced`\n",
        "    )\n",
        "  );"
      ],
      "id": "12c464b6",
      "execution_count": null,
      "outputs": []
    },
    {
      "cell_type": "markdown",
      "metadata": {
        "id": "ad05c2fa"
      },
      "source": [
        "**Exploration:** The accuracy remained the same for both models at 0.852039. However the enhanced model showed a slight improvement in Log Loss as it decreased from 0.419079 in the base model to 0.418972 in the enhanced model. The ROC AUC also increased from 0.517648 in the base model to 0.521578 in the enhanced model, suggesting that the engineered features did slightly improve the model's ability to differentiate between churn and non-churn cases."
      ],
      "id": "ad05c2fa"
    },
    {
      "cell_type": "markdown",
      "id": "f3b11e31",
      "metadata": {
        "id": "f3b11e31"
      },
      "source": [
        "\n",
        "## Task 7: Compare Model Performance\n",
        "\n",
        "**🎯 Goal:** Compare base model vs enhanced model using ML.EVALUATE.  \n",
        "**📌 Requirements:** Use same evaluation query for both models.\n",
        "\n",
        "---\n",
        "\n",
        "### 🧠 Prompt Template  \n",
        "> Write a SQL query to evaluate churn_model_enhanced and compare with churn_model.\n",
        "\n",
        "---\n",
        "\n",
        "### 👩‍🏫 Example Prompt  \n",
        "> Compare ML.EVALUATE output from both models side-by-side.\n",
        "\n",
        "---\n",
        "\n",
        "### 🔍 Exploration  \n",
        "Which features made the most difference?\n"
      ]
    },
    {
      "cell_type": "code",
      "metadata": {
        "id": "7441133a"
      },
      "source": [
        "%%bigquery --project boxwood-veld-471119-r6\n",
        "-- Compare Base vs Enhanced metrics side-by-side\n",
        "WITH base AS (\n",
        "  SELECT\n",
        "    'baseline' AS model,\n",
        "    *\n",
        "  FROM\n",
        "    ML.EVALUATE(MODEL `netflix.churn_model_base`,\n",
        "      (\n",
        "      SELECT\n",
        "        region,\n",
        "        plan_tier,\n",
        "        age_band,\n",
        "        avg_rating,\n",
        "        total_minutes,\n",
        "        churn_label\n",
        "      FROM\n",
        "        `netflix.churn_features`\n",
        "      )\n",
        "    )\n",
        "),\n",
        "enhanced AS (\n",
        "  SELECT\n",
        "    'enhanced' AS model,\n",
        "    *\n",
        "  FROM\n",
        "    ML.EVALUATE(MODEL `netflix.churn_model_enhanced`,\n",
        "      (\n",
        "      SELECT\n",
        "        -- Include all features used for training\n",
        "        region,\n",
        "        plan_tier,\n",
        "        age_band,\n",
        "        avg_rating,\n",
        "        total_minutes,\n",
        "        watch_time_bucket,\n",
        "        flag_binge,\n",
        "        plan_region_combo,\n",
        "        is_missing_age_band,\n",
        "        is_missing_avg_rating,\n",
        "        churn_label\n",
        "      FROM\n",
        "        `netflix.churn_features_enhanced`\n",
        "      )\n",
        "    )\n",
        ")\n",
        "SELECT * FROM base\n",
        "UNION ALL\n",
        "SELECT * FROM enhanced;"
      ],
      "id": "7441133a",
      "execution_count": null,
      "outputs": []
    },
    {
      "cell_type": "code",
      "metadata": {
        "id": "1764aef7"
      },
      "source": [
        "%%bigquery --project boxwood-veld-471119-r6\n",
        "-- Get feature weights for the enhanced model\n",
        "SELECT\n",
        "  *\n",
        "FROM\n",
        "  ML.WEIGHTS(MODEL `netflix.churn_model_enhanced`);"
      ],
      "id": "1764aef7",
      "execution_count": null,
      "outputs": []
    },
    {
      "cell_type": "code",
      "metadata": {
        "id": "d53ae052"
      },
      "source": [
        "%%bigquery --project boxwood-veld-471119-r6\n",
        "-- Unnest category weights for easier viewing\n",
        "SELECT\n",
        "  processed_input,\n",
        "  category_weights.category,\n",
        "  category_weights.weight\n",
        "FROM\n",
        "  ML.WEIGHTS(MODEL `netflix.churn_model_enhanced`),\n",
        "  UNNEST(category_weights) AS category_weights\n",
        "WHERE\n",
        "  -- Filter for features that have category weights (i.e., are categorical)\n",
        "  -- Removing the problematic ARRAY_LENGTH condition\n",
        "  processed_input IS NOT NULL; -- Keep this condition as processed_input can be NULL for intercept"
      ],
      "id": "d53ae052",
      "execution_count": null,
      "outputs": []
    },
    {
      "cell_type": "code",
      "metadata": {
        "id": "5f00bdfa"
      },
      "source": [
        "%%bigquery --project boxwood-veld-471119-r6\n",
        "-- Analyze weights of individual engineered features\n",
        "SELECT\n",
        "  processed_input,\n",
        "  category_weights.category,\n",
        "  category_weights.weight,  -- Specify weight from unnested table\n",
        "  ABS(category_weights.weight) AS abs_weight -- Specify weight from unnested table for ABS\n",
        "FROM\n",
        "  ML.WEIGHTS(MODEL `netflix.churn_model_enhanced`),\n",
        "  UNNEST(category_weights) AS category_weights\n",
        "WHERE\n",
        "  processed_input IN ('watch_time_bucket', 'plan_region_combo', 'flag_binge', 'is_missing_age_band', 'is_missing_avg_rating')\n",
        "ORDER BY\n",
        "  abs_weight DESC\n",
        "LIMIT 20; -- Limit to top 20 for clarity"
      ],
      "id": "5f00bdfa",
      "execution_count": null,
      "outputs": []
    },
    {
      "cell_type": "code",
      "metadata": {
        "id": "cd3a8bf0"
      },
      "source": [
        "%%bigquery --project boxwood-veld-471119-r6\n",
        "-- Calculate total absolute weight by feature group (revised)\n",
        "WITH FeatureWeights AS (\n",
        "  SELECT\n",
        "    processed_input,\n",
        "    ABS(weight) AS abs_weight\n",
        "  FROM ML.WEIGHTS(MODEL `netflix.churn_model_enhanced`)\n",
        "  WHERE processed_input IS NOT NULL AND category_weights IS NULL -- For numerical and binary features\n",
        "  UNION ALL\n",
        "  SELECT\n",
        "    processed_input,\n",
        "    ABS(category_weights.weight) AS abs_weight\n",
        "  FROM ML.WEIGHTS(MODEL `netflix.churn_model_enhanced`),\n",
        "  UNNEST(category_weights) AS category_weights -- For categorical features\n",
        "  WHERE processed_input IS NOT NULL\n",
        "),\n",
        "FeatureGroups AS (\n",
        "  SELECT\n",
        "    processed_input,\n",
        "    CASE\n",
        "      WHEN processed_input = 'watch_time_bucket' THEN 'watch_time_bucket'\n",
        "      WHEN processed_input = 'plan_region_combo' THEN 'plan_region_combo'\n",
        "      WHEN processed_input = 'flag_binge' THEN 'flag_binge'\n",
        "      WHEN processed_input = 'is_missing_age_band' OR processed_input = 'is_missing_avg_rating' THEN 'missing_flags'\n",
        "      ELSE 'original_features' -- Group all other features\n",
        "    END AS feature_group,\n",
        "    abs_weight\n",
        "  FROM FeatureWeights\n",
        ")\n",
        "SELECT\n",
        "  feature_group,\n",
        "  SUM(abs_weight) AS total_absolute_weight\n",
        "FROM FeatureGroups\n",
        "GROUP BY\n",
        "  feature_group\n",
        "ORDER BY\n",
        "  total_absolute_weight DESC;"
      ],
      "id": "cd3a8bf0",
      "execution_count": null,
      "outputs": []
    },
    {
      "cell_type": "code",
      "metadata": {
        "id": "8f3206bd"
      },
      "source": [
        "%%bigquery --project boxwood-veld-471119-r6\n",
        "-- Calculate total absolute weight by feature group (similar to sample code)\n",
        "WITH W AS (\n",
        "  SELECT\n",
        "    CASE\n",
        "      WHEN processed_input LIKE 'watch_time_bucket=%' THEN 'watch_time_bucket'\n",
        "      WHEN processed_input LIKE 'plan_region_combo=%' THEN 'plan_region_combo'\n",
        "      WHEN processed_input = 'flag_binge' THEN 'flag_binge'\n",
        "      WHEN processed_input LIKE 'is_missing_%' THEN 'missing_flags'\n",
        "      ELSE 'other'\n",
        "    END AS feature_group,\n",
        "    ABS(weight) AS abs_weight\n",
        "  FROM ML.WEIGHTS(MODEL `netflix.churn_model_enhanced`)\n",
        "  WHERE processed_input IS NOT NULL\n",
        ")\n",
        "SELECT feature_group, SUM(abs_weight) AS total_abs_weight\n",
        "FROM W\n",
        "GROUP BY feature_group\n",
        "ORDER BY total_abs_weight DESC;"
      ],
      "id": "8f3206bd",
      "execution_count": null,
      "outputs": []
    },
    {
      "cell_type": "markdown",
      "metadata": {
        "id": "f6c177ce"
      },
      "source": [
        "**Exploration:** Looking at the total absolute weights by feature group, the original features combined together had the highest influence on the model. Among the engineered features, the `plan_region_combo` and `watch_time_bucket` groups had the highest collective influence. Analyzing the individual engineered feature weights showed that the 'low' category of `watch_time_bucket` and specific categories within `plan_region_combo` had the largest individual impacts. Features like `flag_binge` had very little influence in this model.\n",
        "\n",
        "Overall, while the engineered features provided a slight improvement in model performance (in Log Loss and ROC AUC), the original features were more dominant in influencing model's predictions."
      ],
      "id": "f6c177ce"
    }
  ],
  "metadata": {
    "colab": {
      "provenance": [],
      "include_colab_link": true
    },
    "language_info": {
      "name": "python"
    },
    "kernelspec": {
      "name": "python3",
      "display_name": "Python 3"
    }
  },
  "nbformat": 4,
  "nbformat_minor": 5
}
