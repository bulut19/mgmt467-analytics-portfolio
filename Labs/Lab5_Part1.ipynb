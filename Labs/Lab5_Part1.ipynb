{
  "cells": [
    {
      "cell_type": "markdown",
      "metadata": {
        "id": "view-in-github",
        "colab_type": "text"
      },
      "source": [
        "<a href=\"https://colab.research.google.com/github/bulut19/mgmt467-analytics-portfolio/blob/main/Lab5_Part1.ipynb\" target=\"_parent\"><img src=\"https://colab.research.google.com/assets/colab-badge.svg\" alt=\"Open In Colab\"/></a>"
      ]
    },
    {
      "cell_type": "markdown",
      "id": "40d6f791",
      "metadata": {
        "id": "40d6f791"
      },
      "source": [
        "\n",
        "# 🤖 MGMT 467 - Unit 2 Lab 2: Prompt Studio for AI-Assisted SQL + ML\n",
        "\n",
        "**Date:** 2025-10-16  \n",
        "**Objective:** Build and refine a complete ML pipeline for churn prediction using BigQuery — but with **Gemini-style prompts** guiding SQL generation.\n",
        "\n",
        "You'll learn to:\n",
        "- Frame SQL goals as clear prompts\n",
        "- Generate, test, and debug queries with an AI assistant\n",
        "- Reflect on each modeling step and your prompt design\n"
      ]
    },
    {
      "cell_type": "markdown",
      "id": "d46ebf07",
      "metadata": {
        "id": "d46ebf07"
      },
      "source": [
        "\n",
        "## Task 0: Connect to BigQuery\n",
        "\n",
        "**🎯 Goal:** Verify BigQuery access from Colab.  \n",
        "**📌 Requirements:** Use `%%bigquery`, get current date and user session.\n",
        "\n",
        "---\n",
        "\n",
        "### 🧠 Prompt Template  \n",
        "> Write a SQL query that returns CURRENT_DATE() and SESSION_USER(). I will run it with %%bigquery in Colab.\n",
        "\n",
        "---\n",
        "\n",
        "### 👩‍🏫 Example Prompt  \n",
        "> Write a SQL query using BigQuery syntax that returns today’s date and the current session user.\n",
        "\n",
        "---\n",
        "\n",
        "### ✅ Expected SQL Output\n",
        "```sql\n",
        "SELECT CURRENT_DATE() AS today, SESSION_USER() AS user;\n",
        "```\n",
        "\n",
        "---\n",
        "\n",
        "### 🔍 Checkpoint  \n",
        "Query should return a single row with today's date and your user.\n"
      ]
    },
    {
      "cell_type": "code",
      "metadata": {
        "id": "bedaefcd"
      },
      "source": [
        "%%bigquery --project boxwood-veld-471119-r6\n",
        "SELECT CURRENT_DATE() AS today, SESSION_USER() AS user;"
      ],
      "id": "bedaefcd",
      "execution_count": null,
      "outputs": []
    },
    {
      "cell_type": "markdown",
      "id": "4804b5b0",
      "metadata": {
        "id": "4804b5b0"
      },
      "source": [
        "\n",
        "## Task 1: Prepare ML Table\n",
        "\n",
        "**🎯 Goal:** Create a clean features table for modeling churn.  \n",
        "**📌 Requirements:** Use cleaned_features as source, select relevant columns, filter rows with churn_label IS NOT NULL.\n",
        "\n",
        "---\n",
        "\n",
        "### 🧠 Prompt Template  \n",
        "> Write a query that creates a new table with columns: [region, plan_tier, age_band, ...] and churn_label from [source_table]. Filter to rows where churn_label IS NOT NULL.\n",
        "\n",
        "---\n",
        "\n",
        "### 👩‍🏫 Example Prompt  \n",
        "> Create a BigQuery table named churn_features from cleaned_features with selected features and where churn_label IS NOT NULL.\n",
        "\n",
        "---\n",
        "\n",
        "### ✅ Expected SQL Output\n",
        "```sql\n",
        "CREATE OR REPLACE TABLE `your_dataset.churn_features` AS\n",
        "SELECT region, plan_tier, age_band, avg_rating, total_minutes, churn_label\n",
        "FROM `your_dataset.cleaned_features`\n",
        "WHERE churn_label IS NOT NULL;\n",
        "```\n",
        "\n",
        "---\n",
        "\n",
        "### 🔍 Checkpoint  \n",
        "Table should appear in BigQuery and contain non-null labels.\n"
      ]
    },
    {
      "cell_type": "code",
      "metadata": {
        "id": "453e5def"
      },
      "source": [
        "%%bigquery --project boxwood-veld-471119-r6\n",
        "CREATE OR REPLACE TABLE `boxwood-veld-471119-r6.netflix.cleaned_features` AS\n",
        "WITH wh AS (\n",
        "  SELECT\n",
        "    user_id,\n",
        "    SUM(COALESCE(watch_duration_minutes, 0)) AS total_minutes\n",
        "  FROM `boxwood-veld-471119-r6.netflix.watch_history`\n",
        "  GROUP BY user_id\n",
        "),\n",
        "rv AS (\n",
        "  SELECT\n",
        "    user_id,\n",
        "    AVG(CAST(rating AS FLOAT64)) AS avg_rating\n",
        "  FROM `boxwood-veld-471119-r6.netflix.reviews`\n",
        "  GROUP BY user_id\n",
        ")\n",
        "SELECT\n",
        "  u.user_id,\n",
        "  u.country,\n",
        "  u.subscription_plan,\n",
        "  u.age,\n",
        "  COALESCE(rv.avg_rating, 0)  AS avg_rating,\n",
        "  COALESCE(wh.total_minutes, 0) AS total_minutes,\n",
        "  CASE\n",
        "    WHEN u.is_active IS NULL THEN NULL               -- keep nulls so we can filter later\n",
        "    WHEN u.is_active THEN 0 ELSE 1                  -- 0 = active (no churn), 1 = churned\n",
        "  END AS churn_label\n",
        "FROM `boxwood-veld-471119-r6.netflix.users` u\n",
        "LEFT JOIN wh USING (user_id)\n",
        "LEFT JOIN rv USING (user_id);"
      ],
      "id": "453e5def",
      "execution_count": null,
      "outputs": []
    },
    {
      "cell_type": "code",
      "metadata": {
        "id": "cae53dbd"
      },
      "source": [
        "%%bigquery --project boxwood-veld-471119-r6\n",
        "CREATE OR REPLACE TABLE `boxwood-veld-471119-r6.netflix.churn_features` AS\n",
        "SELECT\n",
        "  user_id, -- Added user_id here\n",
        "  country           AS region,\n",
        "  subscription_plan AS plan_tier,\n",
        "  CASE\n",
        "    WHEN age IS NULL            THEN 'unknown'\n",
        "    WHEN age < 18               THEN 'u18'\n",
        "    WHEN age BETWEEN 18 AND 24  THEN '18-24'\n",
        "    WHEN age BETWEEN 25 AND 34  THEN '25-34'\n",
        "    WHEN age BETWEEN 35 AND 44  THEN '35-44'\n",
        "    WHEN age BETWEEN 45 AND 54  THEN '45-54'\n",
        "    WHEN age BETWEEN 55 AND 64  THEN '55-64'\n",
        "    ELSE '65+'\n",
        "  END                           AS age_band,\n",
        "  avg_rating,\n",
        "  total_minutes,\n",
        "  churn_label\n",
        "FROM `boxwood-veld-471119-r6.netflix.cleaned_features`\n",
        "WHERE churn_label IS NOT NULL;"
      ],
      "id": "cae53dbd",
      "execution_count": null,
      "outputs": []
    },
    {
      "cell_type": "code",
      "metadata": {
        "id": "29688bc4"
      },
      "source": [
        "%%bigquery --project boxwood-veld-471119-r6\n",
        "SELECT *\n",
        "FROM `boxwood-veld-471119-r6.netflix.churn_features`\n",
        "LIMIT 10;"
      ],
      "id": "29688bc4",
      "execution_count": null,
      "outputs": []
    },
    {
      "cell_type": "markdown",
      "id": "178327da",
      "metadata": {
        "id": "178327da"
      },
      "source": [
        "\n",
        "## Task 2: Train Logistic Regression Model\n",
        "\n",
        "**🎯 Goal:** Train a basic BQML logistic regression model.  \n",
        "**📌 Requirements:** Use churn_features table, predict churn_label from features.\n",
        "\n",
        "---\n",
        "\n",
        "### 🧠 Prompt Template  \n",
        "> Write a CREATE MODEL SQL for logistic regression using churn_label as label and [features] as inputs.\n",
        "\n",
        "---\n",
        "\n",
        "### 👩‍🏫 Example Prompt  \n",
        "> Train a logistic regression model to predict churn_label using region, plan_tier, total_minutes, avg_rating.\n",
        "\n",
        "---\n",
        "\n",
        "### ✅ Expected SQL Output\n",
        "```sql\n",
        "CREATE OR REPLACE MODEL `your_dataset.churn_model`\n",
        "OPTIONS(model_type='logistic_reg') AS\n",
        "SELECT region, plan_tier, total_minutes, avg_rating, churn_label\n",
        "FROM `your_dataset.churn_features`;\n",
        "```\n",
        "\n",
        "---\n",
        "\n",
        "### 🔍 Checkpoint  \n",
        "Model appears in BigQuery under Models. Training completes.\n"
      ]
    },
    {
      "cell_type": "code",
      "metadata": {
        "id": "5905679c"
      },
      "source": [
        "%%bigquery --project boxwood-veld-471119-r6\n",
        "CREATE OR REPLACE MODEL `boxwood-veld-471119-r6.netflix.churn_model`\n",
        "OPTIONS(model_type='logistic_reg', input_label_cols=['churn_label']) AS\n",
        "SELECT region, plan_tier, total_minutes, avg_rating, churn_label\n",
        "FROM `boxwood-veld-471119-r6.netflix.churn_features`;"
      ],
      "id": "5905679c",
      "execution_count": null,
      "outputs": []
    },
    {
      "cell_type": "markdown",
      "id": "e12488fb",
      "metadata": {
        "id": "e12488fb"
      },
      "source": [
        "\n",
        "## Task 3: Evaluate Model\n",
        "\n",
        "**🎯 Goal:** Evaluate the logistic regression model.  \n",
        "**📌 Requirements:** Use ML.EVALUATE.\n",
        "\n",
        "---\n",
        "\n",
        "### 🧠 Prompt Template  \n",
        "> Write a query to evaluate my logistic regression model using ML.EVALUATE.\n",
        "\n",
        "---\n",
        "\n",
        "### 👩‍🏫 Example Prompt  \n",
        "> Evaluate the churn_model using ML.EVALUATE to get accuracy, precision, recall.\n",
        "\n",
        "---\n",
        "\n",
        "### ✅ Expected SQL Output\n",
        "```sql\n",
        "SELECT * FROM ML.EVALUATE(MODEL `your_dataset.churn_model`);\n",
        "```\n",
        "\n",
        "---\n",
        "\n",
        "### 🔍 Checkpoint  \n",
        "View performance metrics: accuracy, log_loss, precision, recall.\n"
      ]
    },
    {
      "cell_type": "code",
      "metadata": {
        "id": "44c9d97d"
      },
      "source": [
        "%%bigquery --project boxwood-veld-471119-r6\n",
        "SELECT * FROM ML.EVALUATE(MODEL `boxwood-veld-471119-r6.netflix.churn_model`);"
      ],
      "id": "44c9d97d",
      "execution_count": null,
      "outputs": []
    },
    {
      "cell_type": "code",
      "metadata": {
        "id": "e736387d"
      },
      "source": [
        "%%bigquery --project boxwood-veld-471119-r6\n",
        "SELECT * FROM ML.CONFUSION_MATRIX(MODEL `boxwood-veld-471119-r6.netflix.churn_model`);"
      ],
      "id": "e736387d",
      "execution_count": null,
      "outputs": []
    },
    {
      "cell_type": "markdown",
      "id": "4dde2b93",
      "metadata": {
        "id": "4dde2b93"
      },
      "source": [
        "\n",
        "## Task 4: Predict Churn\n",
        "\n",
        "**🎯 Goal:** Use ML.PREDICT to generate churn predictions.  \n",
        "**📌 Requirements:** Apply model to same input table.\n",
        "\n",
        "---\n",
        "\n",
        "### 🧠 Prompt Template  \n",
        "> Generate SQL to use ML.PREDICT on churn_model and return predictions by user_id.\n",
        "\n",
        "---\n",
        "\n",
        "### 👩‍🏫 Example Prompt  \n",
        "> Predict churn using churn_model. Include user_id, predicted_churn_label, and prediction probability.\n",
        "\n",
        "---\n",
        "\n",
        "### ✅ Expected SQL Output\n",
        "```sql\n",
        "SELECT user_id, predicted_churn_label, predicted_churn_label_probs\n",
        "FROM ML.PREDICT(MODEL `your_dataset.churn_model`,\n",
        "      (SELECT * FROM `your_dataset.churn_features`));\n",
        "```\n",
        "\n",
        "---\n",
        "\n",
        "### 🔍 Checkpoint  \n",
        "Inspect top churn risk users. Validate probabilities.\n"
      ]
    },
    {
      "cell_type": "code",
      "metadata": {
        "id": "4b7acbc7"
      },
      "source": [
        "%%bigquery --project boxwood-veld-471119-r6\n",
        "SELECT\n",
        "    user_id,\n",
        "    predicted_churn_label,\n",
        "    (SELECT prob FROM UNNEST(predicted_churn_label_probs) WHERE label = 1) AS churn_probability\n",
        "FROM ML.PREDICT(MODEL `boxwood-veld-471119-r6.netflix.churn_model`,\n",
        "      (SELECT user_id, region, plan_tier, total_minutes, avg_rating\n",
        "       FROM `boxwood-veld-471119-r6.netflix.churn_features`));"
      ],
      "id": "4b7acbc7",
      "execution_count": null,
      "outputs": []
    }
  ],
  "metadata": {
    "colab": {
      "provenance": [],
      "include_colab_link": true
    },
    "language_info": {
      "name": "python"
    },
    "kernelspec": {
      "name": "python3",
      "display_name": "Python 3"
    }
  },
  "nbformat": 4,
  "nbformat_minor": 5
}
