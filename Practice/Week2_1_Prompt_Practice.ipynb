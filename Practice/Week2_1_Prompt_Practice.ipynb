{
  "cells": [
    {
      "cell_type": "markdown",
      "metadata": {
        "id": "view-in-github",
        "colab_type": "text"
      },
      "source": [
        "<a href=\"https://colab.research.google.com/github/bulut19/mgmt467-analytics-portfolio/blob/main/Week2_1_Prompt_Practice.ipynb\" target=\"_parent\"><img src=\"https://colab.research.google.com/assets/colab-badge.svg\" alt=\"Open In Colab\"/></a>"
      ]
    },
    {
      "cell_type": "markdown",
      "id": "eebaff9c",
      "metadata": {
        "id": "eebaff9c"
      },
      "source": [
        "\n",
        "# Week 2.1 — Prompt Practice: Git, GitHub, and Google Colab\n",
        "\n",
        "**Course:** MGMT 467 — AI‑Assisted Big Data Analytics in the Cloud  \n",
        "**Session:** Tuesday (2.1) — Developer Environment Setup\n",
        "\n",
        "### How to use this notebook\n",
        "- This is a **practice and planning** notebook: most cells are **Markdown** with copy‑pasteable prompt templates you will run in your AI tool (e.g., Gemini).  \n",
        "- After you run a prompt in your AI tool, **summarize what you learned** in the provided **Reflection** cells here.  \n",
        "- When a task asks for a short code snippet (e.g., Git or Colab), paste the **final, validated** snippet in the designated cell and add a one‑sentence explanation.\n",
        "\n",
        "> **Validate everything.** Cross‑check AI outputs with official docs or a second prompt. If two sources disagree, note it and explain which you chose and why.\n"
      ]
    },
    {
      "cell_type": "markdown",
      "id": "de4883d8",
      "metadata": {
        "id": "de4883d8"
      },
      "source": [
        "\n",
        "---\n",
        "## Prompt Patterns Quick Reference\n",
        "\n",
        "Use these as starting points and **adapt** them to your context.\n",
        "\n",
        "### 1) Zero‑Shot (definition/explanation)\n",
        "```\n",
        "Act as a clear, concise tutor for first‑year CS students.\n",
        "Explain {TOPIC} in 5 bullet points max. Include one analogy and one pitfall to avoid.\n",
        "```\n",
        "\n",
        "### 2) Few‑Shot (guided answers consistent with examples)\n",
        "```\n",
        "You will answer in the same style as the examples.\n",
        "\n",
        "Q: What is a \"commit\" in Git?  \n",
        "A: A snapshot of tracked file changes with a message explaining why.\n",
        "\n",
        "Q: What is \"pushing\" in Git?  \n",
        "A: Sending local commits to a remote repository so others can see them.\n",
        "\n",
        "Q: {YOUR QUESTION}\n",
        "A:\n",
        "```\n",
        "\n",
        "### 3) Step‑by‑Step Reasoning (show key steps)\n",
        "```\n",
        "I need a **numbered, step‑by‑step plan** for {TASK}.\n",
        "For each step: the goal, one command (if applicable), and a 1‑line verification check.\n",
        "Avoid hidden steps; keep it to 6–8 steps total.\n",
        "```\n"
      ]
    },
    {
      "cell_type": "markdown",
      "id": "3f07055e",
      "metadata": {
        "id": "3f07055e"
      },
      "source": [
        "\n",
        "---\n",
        "## Group A — Git Fundamentals (3 questions)\n",
        "\n",
        "### A1. What problem does Git solve? How is it different from file syncing?\n",
        "**Use:** Zero‑Shot, then Few‑Shot for refinement.  \n",
        "**Run this prompt:**\n",
        "```\n",
        "Act as a version control coach.\n",
        "Explain what Git is and the specific problem it solves compared to simple file syncing (e.g., Drive).\n",
        "List 3 concrete benefits for a small analytics team.\n",
        "End with a 2‑sentence analogy.\n",
        "```\n",
        "**Reflection (2–4 sentences):** What did you learn that you didn’t already know?\n",
        "\n",
        "I learnt that unlike file syncing services like Google Drive or Dropbox, Git creates a detailed timeline of who changed what, when, and why, while  merging different people's work together, rather than just syncing the latest version. I also learnt some new terminology like a branch that is a parallel timeline where you can make changes without affecting the main codebase and staging that is Sslecting which modified files you want to include in your next commit."
      ]
    },
    {
      "cell_type": "markdown",
      "id": "b364c38d",
      "metadata": {
        "id": "b364c38d"
      },
      "source": [
        "\n",
        "### A2. Commit → Branch → Merge: the minimal workflow\n",
        "**Use:** Step‑by‑Step Reasoning.  \n",
        "**Run this prompt:**\n",
        "```\n",
        "Create a minimal, step‑by‑step workflow to:\n",
        "1) initialize a repo, 2) create and switch to a feature branch, 3) commit changes,\n",
        "4) merge back to main locally, 5) push to a remote named \"origin\".\n",
        "For each step include: goal, command, and a quick verification.\n",
        "```\n",
        "**Paste final validated commands below and add one sentence on when to branch.**\n"
      ]
    },
    {
      "cell_type": "code",
      "execution_count": 1,
      "id": "7fe63d5f",
      "metadata": {
        "id": "7fe63d5f"
      },
      "outputs": [],
      "source": [
        "# Step 1: Initialize Repository\n",
        "# Goal: Create a new Git repository in current folder\n",
        "# Command: git init\n",
        "# Verification: git status (shows \"On branch main, no commits yet\")\n",
        "\n",
        "# Step 2: Create and Switch to Feature Branch\n",
        "# Goal: Make a new branch for your feature work\n",
        "# Command: git checkout -b feature/readme-polish\n",
        "# Verification: git branch (shows * next to feature/readme-polish)\n",
        "\n",
        "# Step 3: Commit Changes\n",
        "# Goal: Save your work with a descriptive message\n",
        "# Command:\n",
        "# git add README.md\n",
        "# git commit -m \"Clarify setup steps\"\n",
        "# Verification: git log --oneline (shows commit message)\n",
        "\n",
        "# Step 4: Merge Back to Main Locally\n",
        "# Goal: Combine feature work into main branch\n",
        "# Command:\n",
        "# git checkout main\n",
        "# git merge feature/readme-polish --no-ff\n",
        "# Verification: git log --oneline (shows feature commit now on main)\n",
        "\n",
        "# Step 5: Push to Remote Origin\n",
        "# Goal: Send local changes to shared repository\n",
        "# Command:\n",
        "# git remote add origin <REMOTE_URL>\n",
        "# git push -u origin main\n",
        "# Verification: git status (shows \"Your branch is up to date with 'origin/main'\")"
      ]
    },
    {
      "cell_type": "markdown",
      "id": "39cd8eba",
      "metadata": {
        "id": "39cd8eba"
      },
      "source": [
        "\n",
        "### A3. Resolving a simple merge conflict\n",
        "**Use:** Step‑by‑Step Reasoning.  \n",
        "**Run this prompt:**\n",
        "```\n",
        "I have a merge conflict in README.md after merging a feature branch into main.\n",
        "Give a 6-step recipe to resolve it safely:\n",
        "- how to open the file, identify conflict markers, choose/merge lines,\n",
        "- add/commit the resolution, verify the merge, and push.\n",
        "Include one common pitfall and how to avoid it.\n",
        "```\n",
        "**Reflection:** What’s your personal checklist to avoid conflicts getting messy?\n",
        "\n",
        "Before Working\n",
        "- Pull latest - `git pull origin main`\n",
        "- Create feature branch - `git checkout -b feature/name`\n",
        "\n",
        "During Development\n",
        "- Commit frequently - `git add .` then `git commit -m \"descriptive message\"`\n",
        "- Stay synced - `git checkout main`, `git pull origin main`, `git checkout feature/name`\n",
        "\n",
        "Before Merging\n",
        "- Sync and test - `git checkout main`, `git pull origin main`, then test your changes\n",
        "- Clean merge - `git merge feature/name --no-ff`\n",
        "\n",
        "Conflict Resolution\n",
        "- Find markers - Look for `<<<<<<<`, `=======`, `>>>>>>>` in conflicted files\n",
        "- Choose/combine - Edit file to keep what you want, delete all markers\n",
        "- Test and commit - `git add filename`, `git commit -m \"Resolve merge conflict\"`\n",
        "\n",
        "Escape Hatch\n",
        "- Abort if stuck - `git merge --abort` to cancel and start over"
      ]
    },
    {
      "cell_type": "markdown",
      "id": "6028ce17",
      "metadata": {
        "id": "6028ce17"
      },
      "source": [
        "\n",
        "---\n",
        "## Group B — GitHub Collaboration (3 questions)\n",
        "\n",
        "### B1. Branch vs. Fork vs. Clone\n",
        "**Use:** Few‑Shot to drive crisp distinctions with examples.  \n",
        "**Run this prompt:**\n",
        "```\n",
        "Answer using this format:\n",
        "Term — One-sentence definition — When to use — One example.\n",
        "\n",
        "Branch —\n",
        "Fork —\n",
        "Clone —\n",
        "```\n",
        "**Reflection:** Which one will your team use for this course and why?\n",
        "\n",
        "Our team will use clone so that everyone gets a local copy of the shared team repository to work on their machine and stay synchronized with team changes. We will also use branch for each team member to create separate development paths for different pipeline components without causing conflicts. We won't need fork because that creates independent copies under different accounts, adding unnecessary complexity for a single team project where you'd need pull requests between different repositories instead of simple merges within one shared repo.\n"
      ]
    },
    {
      "cell_type": "markdown",
      "id": "2c819dea",
      "metadata": {
        "id": "2c819dea"
      },
      "source": [
        "\n",
        "### B2. Pull Request (PR) checklist for this course\n",
        "**Use:** Step‑by‑Step Reasoning.  \n",
        "**Run this prompt:**\n",
        "```\n",
        "Write a \"PR Checklist\" for a university analytics course team repo.\n",
        "Include: naming convention, description template, screenshots policy, reviewers, CI checks (if any),\n",
        "and a revert plan. Limit to 8 concise checklist items.\n",
        "```\n",
        "**Paste your final checklist below.**\n"
      ]
    },
    {
      "cell_type": "code",
      "execution_count": 2,
      "id": "dd5e9adb",
      "metadata": {
        "colab": {
          "base_uri": "https://localhost:8080/"
        },
        "id": "dd5e9adb",
        "outputId": "6d810f50-0fc9-4955-fa82-0ead6e179ae1"
      },
      "outputs": [
        {
          "output_type": "execute_result",
          "data": {
            "text/plain": [
              "['PR title: `<unit>-<component>-<desc>` (e.g., `u2-preprocessing-outlier-detection`)',\n",
              " 'Description includes: problem, approach, key files, and how to test',\n",
              " 'Attach 1-2 screenshots of plots/dashboards if visual outputs changed',\n",
              " 'Link assignment requirement or issue number being addressed',\n",
              " 'Request review from 1 teammate; no self-merging allowed',\n",
              " 'Passes full notebook execution: `Runtime > Run all` completes without errors',\n",
              " 'No API keys, passwords, or personal data visible in code/outputs',\n",
              " 'Revert plan: document which commits to revert if pipeline breaks']"
            ]
          },
          "metadata": {},
          "execution_count": 2
        }
      ],
      "source": [
        "pr_checklist = [\n",
        "    \"PR title: `<unit>-<component>-<desc>` (e.g., `u2-preprocessing-outlier-detection`)\",\n",
        "    \"Description includes: problem, approach, key files, and how to test\",\n",
        "    \"Attach 1-2 screenshots of plots/dashboards if visual outputs changed\",\n",
        "    \"Link assignment requirement or issue number being addressed\",\n",
        "    \"Request review from 1 teammate; no self-merging allowed\",\n",
        "    \"Passes full notebook execution: `Runtime > Run all` completes without errors\",\n",
        "    \"No API keys, passwords, or personal data visible in code/outputs\",\n",
        "    \"Revert plan: document which commits to revert if pipeline breaks\"\n",
        "]\n",
        "pr_checklist"
      ]
    },
    {
      "cell_type": "markdown",
      "id": "3be4b08d",
      "metadata": {
        "id": "3be4b08d"
      },
      "source": [
        "\n",
        "### B3. Protected `main` workflow\n",
        "**Use:** Zero‑Shot + Step‑by‑Step.  \n",
        "**Run this prompt:**\n",
        "```\n",
        "Explain how to protect the main branch in a GitHub repo for a class team:\n",
        "- Require PRs, at least one review, and passing checks\n",
        "- Disallow force-pushes\n",
        "Provide a numbered setup guide and a 3-line \"why this matters\" explanation.\n",
        "```\n",
        "**Reflection:** Which protection rules will you actually enable first, and why?\n",
        "\n",
        "- Require a pull request before merging: This is the foundation that forces all changes through the review process instead of direct commits to main.\n",
        "- Require approvals (minimum 1): Ensures someone else looks at code before it goes live, catching bugs and ensuring knowledge sharing across the team.\n",
        "- Restrict pushes that create files + Disallow force pushes: Prevents accidental deletion of team's work history and protects against destructive operations.\n"
      ]
    },
    {
      "cell_type": "markdown",
      "id": "8d94b30a",
      "metadata": {
        "id": "8d94b30a"
      },
      "source": [
        "\n",
        "---\n",
        "## Group C — Google Colab for Analytics (3 questions)\n",
        "\n",
        "### C1. Why Colab? Benefits & limits for this course\n",
        "**Use:** Zero‑Shot.  \n",
        "**Run this prompt:**\n",
        "```\n",
        "Act as a data science tech advisor.\n",
        "List 5 advantages and 3 limitations of Google Colab for analytics coursework.\n",
        "Tailor to a class that uses BigQuery and dashboards. Keep it to bullet points.\n",
        "```\n",
        "**Reflection:** Which two advantages will help *you* most this semester?\n",
        "\n",
        "Real-time collaboration and seamless BigQuery integration would help me the most this semester. This is because real-time collaboration lets multiple team members work simultaneously on the same notebook during data exploration and model building, eliminating coordination headaches during team projects. BigQuery integration removes database setup barriers, allowing the team to immediately query real datasets and focus on solving business problems rather than wrestling with connection configurations."
      ]
    },
    {
      "cell_type": "markdown",
      "id": "1b96debe",
      "metadata": {
        "id": "1b96debe"
      },
      "source": [
        "\n",
        "### C2. Authenticate to GCP in Colab and query BigQuery\n",
        "**Use:** Step‑by‑Step Reasoning for a minimal working snippet.  \n",
        "**Run this prompt:**\n",
        "```\n",
        "Provide a minimal Colab snippet to:\n",
        "1) authenticate to Google Cloud,\n",
        "2) run a simple BigQuery SQL (e.g., SELECT 1),\n",
        "3) get results into a pandas DataFrame,\n",
        "4) print row count.\n",
        "Include a one-line note on costs and safe use of LIMIT.\n",
        "```\n",
        "**Paste your final validated code below.**\n"
      ]
    },
    {
      "cell_type": "code",
      "execution_count": 3,
      "id": "5d389386",
      "metadata": {
        "id": "5d389386"
      },
      "outputs": [],
      "source": [
        "# Authenticate to Google Cloud\n",
        "# from google.colab import auth\n",
        "# auth.authenticate_user()\n",
        "\n",
        "# Setup BigQuery client and run simple SQL\n",
        "# from google.cloud import bigquery\n",
        "# import pandas as pd\n",
        "# client = bigquery.Client(project=\"<YOUR_PROJECT_ID>\")\n",
        "# sql = \"SELECT 1 AS test_col\"\n",
        "\n",
        "# Get results into pandas DataFrame\n",
        "# df = client.query(sql).result().to_dataframe()\n",
        "\n",
        "# Print row count and preview\n",
        "# print(\"Rows:\", len(df))\n",
        "# df.head()\n",
        "\n",
        "# Cost note: BigQuery charges by data scanned - always use LIMIT in exploratory queries to avoid unexpected bills\n"
      ]
    },
    {
      "cell_type": "markdown",
      "id": "6c63c1ce",
      "metadata": {
        "id": "6c63c1ce"
      },
      "source": [
        "\n",
        "### C3. Save notebooks to GitHub from Colab\n",
        "**Use:** Step‑by‑Step Reasoning.  \n",
        "**Run this prompt:**\n",
        "```\n",
        "Give two safe workflows to keep Colab notebooks versioned in GitHub:\n",
        "(A) using \"File > Save a copy in GitHub\",\n",
        "(B) local git with Drive sync (brief).\n",
        "Provide steps and cautions (e.g., large outputs, secrets) for each.\n",
        "```\n",
        "**Reflection:** Which workflow will your team adopt and why?\n",
        "\n",
        "My team will adopt Workflow A (File > Save a copy in GitHub) because it eliminates the manual sync complexity that would cause coordination problems in our project. With Workflow B, we'd likely forget to download the latest version from Drive before making changes, leading to conflicting notebook versions and lost work. Workflow A integrates directly with our GitHub repository and reduces friction, making it much more likely we'll actually use version control consistently throughout the semester rather than abandoning it when deadlines get tight.\n",
        "\n",
        "Workflow A: File > Save a copy in GitHub\n",
        "\n",
        "Steps:\n",
        "- Complete your analysis in Colab\n",
        "- Clear all outputs: Runtime > Factory reset runtime then Edit > Clear all outputs\n",
        "- Go to File > Save a copy in GitHub\n",
        "- Select repository, branch, and add commit message\n",
        "- GitHub saves the .ipynb file directly to your repo"
      ]
    },
    {
      "cell_type": "markdown",
      "id": "a181717a",
      "metadata": {
        "id": "a181717a"
      },
      "source": [
        "\n",
        "---\n",
        "## Capstone Synthesis (end of class)\n",
        "\n",
        "**Scenario:** Your team needs a reproducible workflow for this course: team repo on GitHub, branching, Colab auth to BigQuery, and a PR checklist.\n",
        "\n",
        "**Run this prompt:**\n",
        "```\n",
        "Act as a DevEx lead for a university analytics team.\n",
        "Produce a one-page \"Runbook\" with:\n",
        "- Repo structure (folders for notebooks, data, dashboards, docs)\n",
        "- Branching model (who creates branches, when to merge)\n",
        "- Colab ↔ BigQuery quickstart (auth, sample query, cost-safe LIMIT)\n",
        "- PR checklist (max 8 bullets) and protection rules for main\n",
        "- Two risks + mitigations (e.g., secrets leakage, merge conflicts)\n",
        "Use concise bullets and keep it classroom-ready.\n",
        "```\n",
        "\n",
        "**Paste your final runbook below (or attach as a Markdown file in your repo) and add a 3‑bullet reflection on what you changed after validation.**\n",
        "\n",
        "**Analytics Team Runbook**\n",
        "\n",
        "**Repository Structure**  \n",
        "analytics-pipeline/  \n",
        "├── notebooks/ (Jupyter/Colab analysis files)  \n",
        "├── data/ (Sample datasets < 10MB only)  \n",
        "├── dashboards/ (Streamlit/Plotly dashboard code)  \n",
        "├── docs/ (Project documentation, reports)  \n",
        "├── sql/  (BigQuery scripts and queries)  \n",
        "└── README.md  (Setup instructions and overview)\n",
        "\n",
        "**Branching Model**\n",
        "\n",
        "- Main branch: Stable, working code only; protected with PR requirements\n",
        "- Feature branches: Each team member creates feature/component-name for their work\n",
        "- When to branch: Start new branch for each major pipeline component or analysis\n",
        "- When to merge: After peer review and successful notebook execution\n",
        "- Branch cleanup: Delete feature branches after successful merge to main\n",
        "\n",
        "**Colab ↔ BigQuery Quickstart**\n",
        "```\n",
        "# Authentication\n",
        "from google.colab import auth\n",
        "auth.authenticate_user()\n",
        "\n",
        "# Query setup\n",
        "from google.cloud import bigquery\n",
        "client = bigquery.Client(project=\"YOUR_PROJECT_ID\")\n",
        "sql = \"SELECT column1, column2 FROM dataset.table LIMIT 1000\"\n",
        "\n",
        "# Get results\n",
        "df = client.query(sql).result().to_dataframe()\n",
        "print(f\"Rows: {len(df)}\")\n",
        "```\n",
        "\n",
        "Cost Safety: Always use LIMIT 1000 for exploration - BigQuery charges by data scanned, not rows returned\n",
        "\n",
        "**PR Checklist**\n",
        "- Title format: unit-component-description (e.g., u2-preprocessing-outliers)\n",
        "- Description includes problem, approach, key files, testing steps\n",
        "- Screenshots attached if visualizations changed\n",
        "- All outputs cleared: Edit > Clear all outputs\n",
        "- No API keys, tokens, or personal data in code\n",
        "- Notebook runs end-to-end: Runtime > Run all passes\n",
        "- One teammate review required before merge\n",
        "- Link to assignment requirement or issue number\n",
        "\n",
        "**Main Branch Protection Rules**\n",
        "- Require pull requests before merging\n",
        "- Require at least 1 approval from teammate\n",
        "- Disallow force pushes and direct commits\n",
        "- Enable \"Restrict pushes that create files\"\n",
        "\n",
        "**Risk Management**  \n",
        "Risk 1: Secrets Leakage\n",
        "- Problem: API keys or credentials accidentally committed to public repo\n",
        "Mitigation: Use environment variables, clear outputs before commits, add .env to .gitignore  \n",
        "\n",
        "Risk 2: Merge Conflicts in Notebooks\n",
        "- Problem: JSON format makes notebook conflicts nearly impossible to resolve manually\n",
        "Mitigation: Work on separate notebooks per team member, merge frequently, use git merge --abort if conflicts occur\n",
        "\n",
        "Keep this runbook handy during team development - print or bookmark for quick reference!\n",
        "\n",
        "**Reflection**\n",
        "\n",
        "- Added SQL folder: Included sql/ directory in repo structure since the team will be working extensively with BigQuery queries\n",
        "- Enhanced risk mitigations: Made the secrets mitigation more actionable by specifying environment variables and .gitignore usage\n",
        "- Added project context - Included project=\"YOUR_PROJECT_ID\" in BigQuery setup"
      ]
    },
    {
      "cell_type": "markdown",
      "id": "0aa9e3a2",
      "metadata": {
        "id": "0aa9e3a2"
      },
      "source": [
        "\n",
        "---\n",
        "## Submission Checklist (to your team repo + Brightspace link)\n",
        "\n",
        "- [ ] All **Reflection** sections completed (A1–A3, B1–B3, C1–C3, Capstone).\n",
        "- [ ] Any code snippets pasted are **validated** and include a 1‑line explanation.\n",
        "- [ ] Notebook runs top‑to‑bottom without errors (where code cells exist).\n",
        "- [ ] Commit message: `week2.1-prompt-practice` and open a PR for review.\n",
        "- [ ] Add this notebook path to your repo **README.md** under Week 2.1.\n"
      ]
    }
  ],
  "metadata": {
    "colab": {
      "provenance": [],
      "include_colab_link": true
    },
    "language_info": {
      "name": "python"
    },
    "kernelspec": {
      "name": "python3",
      "display_name": "Python 3"
    }
  },
  "nbformat": 4,
  "nbformat_minor": 5
}
